{
  "cells": [
    {
      "cell_type": "code",
      "execution_count": 1,
      "metadata": {
        "colab": {
          "base_uri": "https://localhost:8080/"
        },
        "id": "1leM3xmMWMg-",
        "outputId": "7d3ddecf-4fac-401d-a15c-b6e57feb0c34"
      },
      "outputs": [
        {
          "output_type": "stream",
          "name": "stderr",
          "text": [
            "Installing package into ‘/usr/local/lib/R/site-library’\n",
            "(as ‘lib’ is unspecified)\n",
            "\n",
            "also installing the dependencies ‘Deriv’, ‘microbenchmark’, ‘doBy’, ‘SparseM’, ‘MatrixModels’, ‘minqa’, ‘nloptr’, ‘carData’, ‘abind’, ‘pbkrtest’, ‘quantreg’, ‘lme4’, ‘corrplot’, ‘car’, ‘tweenr’, ‘polyclip’, ‘RcppEigen’, ‘colourpicker’, ‘shinyjs’, ‘ggrepel’, ‘ggsci’, ‘cowplot’, ‘ggsignif’, ‘gridExtra’, ‘polynom’, ‘rstatix’, ‘checkmate’, ‘ggforce’, ‘ggExtra’, ‘ggpubr’, ‘BBmisc’\n",
            "\n",
            "\n"
          ]
        }
      ],
      "source": [
        "# install.packages(\"caret\")\n",
        "# install.packages(\"e1071\")\n",
        "# install.packages(\"ggplot2\")\n",
        "# install.packages(\"dplyr\")\n",
        " install.packages(\"SHAPforxgboost\")"
      ]
    },
    {
      "cell_type": "code",
      "source": [
        "# install.packages(\"xgboost\")\n",
        "# install.packages(\"randomForest\")"
      ],
      "metadata": {
        "id": "ET9nZoAhHQXn"
      },
      "execution_count": 2,
      "outputs": []
    },
    {
      "cell_type": "code",
      "source": [
        "library(\"caret\")\n",
        "library(\"xgboost\")\n",
        "library(\"SHAPforxgboost\")\n",
        "library(\"ggplot2\")\n",
        "library(\"dplyr\")\n",
        "library(\"randomForest\")\n"
      ],
      "metadata": {
        "colab": {
          "base_uri": "https://localhost:8080/"
        },
        "id": "N4IeCMWE-usd",
        "outputId": "c27a5dac-9a5f-4f76-d146-18a57da47046"
      },
      "execution_count": 3,
      "outputs": [
        {
          "output_type": "stream",
          "name": "stderr",
          "text": [
            "Loading required package: ggplot2\n",
            "\n",
            "Loading required package: lattice\n",
            "\n",
            "\n",
            "Attaching package: ‘dplyr’\n",
            "\n",
            "\n",
            "The following object is masked from ‘package:xgboost’:\n",
            "\n",
            "    slice\n",
            "\n",
            "\n",
            "The following objects are masked from ‘package:stats’:\n",
            "\n",
            "    filter, lag\n",
            "\n",
            "\n",
            "The following objects are masked from ‘package:base’:\n",
            "\n",
            "    intersect, setdiff, setequal, union\n",
            "\n",
            "\n",
            "randomForest 4.7-1.1\n",
            "\n",
            "Type rfNews() to see new features/changes/bug fixes.\n",
            "\n",
            "\n",
            "Attaching package: ‘randomForest’\n",
            "\n",
            "\n",
            "The following object is masked from ‘package:dplyr’:\n",
            "\n",
            "    combine\n",
            "\n",
            "\n",
            "The following object is masked from ‘package:ggplot2’:\n",
            "\n",
            "    margin\n",
            "\n",
            "\n"
          ]
        }
      ]
    },
    {
      "cell_type": "code",
      "source": [
        "\n",
        "#Read the dataset, here because the csv file is in same folder there is no need of mentioning path otherwise we need to mention path as well\n",
        "data <- read.csv(\"/content/GDSC_DATASET.csv\", header = TRUE, sep = \",\")\n",
        "head(data)"
      ],
      "metadata": {
        "colab": {
          "base_uri": "https://localhost:8080/",
          "height": 306
        },
        "id": "soIalyAjHZTM",
        "outputId": "9d9131b1-34f2-467e-e93e-bab02884cd04"
      },
      "execution_count": 4,
      "outputs": [
        {
          "output_type": "display_data",
          "data": {
            "text/html": [
              "<table class=\"dataframe\">\n",
              "<caption>A data.frame: 6 × 19</caption>\n",
              "<thead>\n",
              "\t<tr><th></th><th scope=col>COSMIC_ID</th><th scope=col>CELL_LINE_NAME</th><th scope=col>TCGA_DESC</th><th scope=col>DRUG_ID</th><th scope=col>DRUG_NAME</th><th scope=col>LN_IC50</th><th scope=col>AUC</th><th scope=col>Z_SCORE</th><th scope=col>GDSC.Tissue.descriptor.1</th><th scope=col>GDSC.Tissue.descriptor.2</th><th scope=col>Cancer.Type..matching.TCGA.label.</th><th scope=col>Microsatellite.instability.Status..MSI.</th><th scope=col>Screen.Medium</th><th scope=col>Growth.Properties</th><th scope=col>CNA</th><th scope=col>Gene.Expression</th><th scope=col>Methylation</th><th scope=col>TARGET</th><th scope=col>TARGET_PATHWAY</th></tr>\n",
              "\t<tr><th></th><th scope=col>&lt;int&gt;</th><th scope=col>&lt;chr&gt;</th><th scope=col>&lt;chr&gt;</th><th scope=col>&lt;int&gt;</th><th scope=col>&lt;chr&gt;</th><th scope=col>&lt;dbl&gt;</th><th scope=col>&lt;dbl&gt;</th><th scope=col>&lt;dbl&gt;</th><th scope=col>&lt;chr&gt;</th><th scope=col>&lt;chr&gt;</th><th scope=col>&lt;chr&gt;</th><th scope=col>&lt;chr&gt;</th><th scope=col>&lt;chr&gt;</th><th scope=col>&lt;chr&gt;</th><th scope=col>&lt;chr&gt;</th><th scope=col>&lt;chr&gt;</th><th scope=col>&lt;chr&gt;</th><th scope=col>&lt;chr&gt;</th><th scope=col>&lt;chr&gt;</th></tr>\n",
              "</thead>\n",
              "<tbody>\n",
              "\t<tr><th scope=row>1</th><td>683667</td><td>PFSK-1  </td><td>MB          </td><td>1003</td><td>Camptothecin</td><td>-1.463887</td><td>0.930220</td><td> 0.433123</td><td>nervous_system</td><td>medulloblastoma</td><td>MB  </td><td>MSS/MSI-L</td><td>R</td><td>Adherent     </td><td>Y</td><td>Y</td><td>Y</td><td>TOP1</td><td>DNA replication</td></tr>\n",
              "\t<tr><th scope=row>2</th><td>684057</td><td>ES5     </td><td>UNCLASSIFIED</td><td>1003</td><td>Camptothecin</td><td>-3.360586</td><td>0.791072</td><td>-0.599569</td><td>bone          </td><td>ewings_sarcoma </td><td>    </td><td>MSS/MSI-L</td><td>R</td><td>Adherent     </td><td>Y</td><td>Y</td><td>Y</td><td>TOP1</td><td>DNA replication</td></tr>\n",
              "\t<tr><th scope=row>3</th><td>684059</td><td>ES7     </td><td>UNCLASSIFIED</td><td>1003</td><td>Camptothecin</td><td>-5.044940</td><td>0.592660</td><td>-1.516647</td><td>bone          </td><td>ewings_sarcoma </td><td>    </td><td>MSS/MSI-L</td><td>R</td><td>Adherent     </td><td>Y</td><td>Y</td><td>Y</td><td>TOP1</td><td>DNA replication</td></tr>\n",
              "\t<tr><th scope=row>4</th><td>684062</td><td>EW-11   </td><td>UNCLASSIFIED</td><td>1003</td><td>Camptothecin</td><td>-3.741991</td><td>0.734047</td><td>-0.807232</td><td>bone          </td><td>ewings_sarcoma </td><td>    </td><td>MSS/MSI-L</td><td>R</td><td>Adherent     </td><td>Y</td><td>Y</td><td>Y</td><td>TOP1</td><td>DNA replication</td></tr>\n",
              "\t<tr><th scope=row>5</th><td>684072</td><td>SK-ES-1 </td><td>UNCLASSIFIED</td><td>1003</td><td>Camptothecin</td><td>-5.142961</td><td>0.582439</td><td>-1.570016</td><td>bone          </td><td>ewings_sarcoma </td><td>    </td><td>MSS/MSI-L</td><td>R</td><td>Semi-Adherent</td><td>Y</td><td>Y</td><td>Y</td><td>TOP1</td><td>DNA replication</td></tr>\n",
              "\t<tr><th scope=row>6</th><td>687448</td><td>COLO-829</td><td>SKCM        </td><td>1003</td><td>Camptothecin</td><td>-1.235034</td><td>0.867348</td><td> 0.557727</td><td>skin          </td><td>melanoma       </td><td>SKCM</td><td>MSS/MSI-L</td><td>R</td><td>Adherent     </td><td>Y</td><td>Y</td><td>Y</td><td>TOP1</td><td>DNA replication</td></tr>\n",
              "</tbody>\n",
              "</table>\n"
            ],
            "text/markdown": "\nA data.frame: 6 × 19\n\n| <!--/--> | COSMIC_ID &lt;int&gt; | CELL_LINE_NAME &lt;chr&gt; | TCGA_DESC &lt;chr&gt; | DRUG_ID &lt;int&gt; | DRUG_NAME &lt;chr&gt; | LN_IC50 &lt;dbl&gt; | AUC &lt;dbl&gt; | Z_SCORE &lt;dbl&gt; | GDSC.Tissue.descriptor.1 &lt;chr&gt; | GDSC.Tissue.descriptor.2 &lt;chr&gt; | Cancer.Type..matching.TCGA.label. &lt;chr&gt; | Microsatellite.instability.Status..MSI. &lt;chr&gt; | Screen.Medium &lt;chr&gt; | Growth.Properties &lt;chr&gt; | CNA &lt;chr&gt; | Gene.Expression &lt;chr&gt; | Methylation &lt;chr&gt; | TARGET &lt;chr&gt; | TARGET_PATHWAY &lt;chr&gt; |\n|---|---|---|---|---|---|---|---|---|---|---|---|---|---|---|---|---|---|---|---|\n| 1 | 683667 | PFSK-1   | MB           | 1003 | Camptothecin | -1.463887 | 0.930220 |  0.433123 | nervous_system | medulloblastoma | MB   | MSS/MSI-L | R | Adherent      | Y | Y | Y | TOP1 | DNA replication |\n| 2 | 684057 | ES5      | UNCLASSIFIED | 1003 | Camptothecin | -3.360586 | 0.791072 | -0.599569 | bone           | ewings_sarcoma  | <!----> | MSS/MSI-L | R | Adherent      | Y | Y | Y | TOP1 | DNA replication |\n| 3 | 684059 | ES7      | UNCLASSIFIED | 1003 | Camptothecin | -5.044940 | 0.592660 | -1.516647 | bone           | ewings_sarcoma  | <!----> | MSS/MSI-L | R | Adherent      | Y | Y | Y | TOP1 | DNA replication |\n| 4 | 684062 | EW-11    | UNCLASSIFIED | 1003 | Camptothecin | -3.741991 | 0.734047 | -0.807232 | bone           | ewings_sarcoma  | <!----> | MSS/MSI-L | R | Adherent      | Y | Y | Y | TOP1 | DNA replication |\n| 5 | 684072 | SK-ES-1  | UNCLASSIFIED | 1003 | Camptothecin | -5.142961 | 0.582439 | -1.570016 | bone           | ewings_sarcoma  | <!----> | MSS/MSI-L | R | Semi-Adherent | Y | Y | Y | TOP1 | DNA replication |\n| 6 | 687448 | COLO-829 | SKCM         | 1003 | Camptothecin | -1.235034 | 0.867348 |  0.557727 | skin           | melanoma        | SKCM | MSS/MSI-L | R | Adherent      | Y | Y | Y | TOP1 | DNA replication |\n\n",
            "text/latex": "A data.frame: 6 × 19\n\\begin{tabular}{r|lllllllllllllllllll}\n  & COSMIC\\_ID & CELL\\_LINE\\_NAME & TCGA\\_DESC & DRUG\\_ID & DRUG\\_NAME & LN\\_IC50 & AUC & Z\\_SCORE & GDSC.Tissue.descriptor.1 & GDSC.Tissue.descriptor.2 & Cancer.Type..matching.TCGA.label. & Microsatellite.instability.Status..MSI. & Screen.Medium & Growth.Properties & CNA & Gene.Expression & Methylation & TARGET & TARGET\\_PATHWAY\\\\\n  & <int> & <chr> & <chr> & <int> & <chr> & <dbl> & <dbl> & <dbl> & <chr> & <chr> & <chr> & <chr> & <chr> & <chr> & <chr> & <chr> & <chr> & <chr> & <chr>\\\\\n\\hline\n\t1 & 683667 & PFSK-1   & MB           & 1003 & Camptothecin & -1.463887 & 0.930220 &  0.433123 & nervous\\_system & medulloblastoma & MB   & MSS/MSI-L & R & Adherent      & Y & Y & Y & TOP1 & DNA replication\\\\\n\t2 & 684057 & ES5      & UNCLASSIFIED & 1003 & Camptothecin & -3.360586 & 0.791072 & -0.599569 & bone           & ewings\\_sarcoma  &      & MSS/MSI-L & R & Adherent      & Y & Y & Y & TOP1 & DNA replication\\\\\n\t3 & 684059 & ES7      & UNCLASSIFIED & 1003 & Camptothecin & -5.044940 & 0.592660 & -1.516647 & bone           & ewings\\_sarcoma  &      & MSS/MSI-L & R & Adherent      & Y & Y & Y & TOP1 & DNA replication\\\\\n\t4 & 684062 & EW-11    & UNCLASSIFIED & 1003 & Camptothecin & -3.741991 & 0.734047 & -0.807232 & bone           & ewings\\_sarcoma  &      & MSS/MSI-L & R & Adherent      & Y & Y & Y & TOP1 & DNA replication\\\\\n\t5 & 684072 & SK-ES-1  & UNCLASSIFIED & 1003 & Camptothecin & -5.142961 & 0.582439 & -1.570016 & bone           & ewings\\_sarcoma  &      & MSS/MSI-L & R & Semi-Adherent & Y & Y & Y & TOP1 & DNA replication\\\\\n\t6 & 687448 & COLO-829 & SKCM         & 1003 & Camptothecin & -1.235034 & 0.867348 &  0.557727 & skin           & melanoma        & SKCM & MSS/MSI-L & R & Adherent      & Y & Y & Y & TOP1 & DNA replication\\\\\n\\end{tabular}\n",
            "text/plain": [
              "  COSMIC_ID CELL_LINE_NAME TCGA_DESC    DRUG_ID DRUG_NAME    LN_IC50   AUC     \n",
              "1 683667    PFSK-1         MB           1003    Camptothecin -1.463887 0.930220\n",
              "2 684057    ES5            UNCLASSIFIED 1003    Camptothecin -3.360586 0.791072\n",
              "3 684059    ES7            UNCLASSIFIED 1003    Camptothecin -5.044940 0.592660\n",
              "4 684062    EW-11          UNCLASSIFIED 1003    Camptothecin -3.741991 0.734047\n",
              "5 684072    SK-ES-1        UNCLASSIFIED 1003    Camptothecin -5.142961 0.582439\n",
              "6 687448    COLO-829       SKCM         1003    Camptothecin -1.235034 0.867348\n",
              "  Z_SCORE   GDSC.Tissue.descriptor.1 GDSC.Tissue.descriptor.2\n",
              "1  0.433123 nervous_system           medulloblastoma         \n",
              "2 -0.599569 bone                     ewings_sarcoma          \n",
              "3 -1.516647 bone                     ewings_sarcoma          \n",
              "4 -0.807232 bone                     ewings_sarcoma          \n",
              "5 -1.570016 bone                     ewings_sarcoma          \n",
              "6  0.557727 skin                     melanoma                \n",
              "  Cancer.Type..matching.TCGA.label. Microsatellite.instability.Status..MSI.\n",
              "1 MB                                MSS/MSI-L                              \n",
              "2                                   MSS/MSI-L                              \n",
              "3                                   MSS/MSI-L                              \n",
              "4                                   MSS/MSI-L                              \n",
              "5                                   MSS/MSI-L                              \n",
              "6 SKCM                              MSS/MSI-L                              \n",
              "  Screen.Medium Growth.Properties CNA Gene.Expression Methylation TARGET\n",
              "1 R             Adherent          Y   Y               Y           TOP1  \n",
              "2 R             Adherent          Y   Y               Y           TOP1  \n",
              "3 R             Adherent          Y   Y               Y           TOP1  \n",
              "4 R             Adherent          Y   Y               Y           TOP1  \n",
              "5 R             Semi-Adherent     Y   Y               Y           TOP1  \n",
              "6 R             Adherent          Y   Y               Y           TOP1  \n",
              "  TARGET_PATHWAY \n",
              "1 DNA replication\n",
              "2 DNA replication\n",
              "3 DNA replication\n",
              "4 DNA replication\n",
              "5 DNA replication\n",
              "6 DNA replication"
            ]
          },
          "metadata": {}
        }
      ]
    },
    {
      "cell_type": "markdown",
      "source": [
        "# **Exploratory data Analysis**"
      ],
      "metadata": {
        "id": "k5tQhshWHvbk"
      }
    },
    {
      "cell_type": "code",
      "source": [
        "summary(data)\n"
      ],
      "metadata": {
        "colab": {
          "base_uri": "https://localhost:8080/",
          "height": 746
        },
        "id": "le5wtpycHcnr",
        "outputId": "2f54e13c-bbfa-4c27-f208-ec6cf7b658cb"
      },
      "execution_count": 5,
      "outputs": [
        {
          "output_type": "display_data",
          "data": {
            "text/plain": [
              "   COSMIC_ID       CELL_LINE_NAME      TCGA_DESC            DRUG_ID    \n",
              " Min.   : 683667   Length:242035      Length:242035      Min.   :1003  \n",
              " 1st Qu.: 906805   Class :character   Class :character   1st Qu.:1149  \n",
              " Median : 909720   Mode  :character   Mode  :character   Median :1631  \n",
              " Mean   : 992107                                         Mean   :1594  \n",
              " 3rd Qu.:1240144                                         3rd Qu.:1912  \n",
              " Max.   :1789883                                         Max.   :2499  \n",
              "  DRUG_NAME            LN_IC50            AUC              Z_SCORE         \n",
              " Length:242035      Min.   :-8.748   Min.   :0.006282   Min.   :-8.254501  \n",
              " Class :character   1st Qu.: 1.508   1st Qu.:0.849452   1st Qu.:-0.656842  \n",
              " Mode  :character   Median : 3.237   Median :0.944197   Median : 0.010585  \n",
              "                    Mean   : 2.817   Mean   :0.882593   Mean   : 0.000006  \n",
              "                    3rd Qu.: 4.700   3rd Qu.:0.974934   3rd Qu.: 0.656037  \n",
              "                    Max.   :13.820   Max.   :0.998904   Max.   : 7.978776  \n",
              " GDSC.Tissue.descriptor.1 GDSC.Tissue.descriptor.2\n",
              " Length:242035            Length:242035           \n",
              " Class :character         Class :character        \n",
              " Mode  :character         Mode  :character        \n",
              "                                                  \n",
              "                                                  \n",
              "                                                  \n",
              " Cancer.Type..matching.TCGA.label. Microsatellite.instability.Status..MSI.\n",
              " Length:242035                     Length:242035                          \n",
              " Class :character                  Class :character                       \n",
              " Mode  :character                  Mode  :character                       \n",
              "                                                                          \n",
              "                                                                          \n",
              "                                                                          \n",
              " Screen.Medium      Growth.Properties      CNA            Gene.Expression   \n",
              " Length:242035      Length:242035      Length:242035      Length:242035     \n",
              " Class :character   Class :character   Class :character   Class :character  \n",
              " Mode  :character   Mode  :character   Mode  :character   Mode  :character  \n",
              "                                                                            \n",
              "                                                                            \n",
              "                                                                            \n",
              " Methylation           TARGET          TARGET_PATHWAY    \n",
              " Length:242035      Length:242035      Length:242035     \n",
              " Class :character   Class :character   Class :character  \n",
              " Mode  :character   Mode  :character   Mode  :character  \n",
              "                                                         \n",
              "                                                         \n",
              "                                                         "
            ]
          },
          "metadata": {}
        }
      ]
    },
    {
      "cell_type": "code",
      "source": [
        "hist(data$LN_IC50)\n"
      ],
      "metadata": {
        "colab": {
          "base_uri": "https://localhost:8080/",
          "height": 437
        },
        "id": "09LAEnOnHgDK",
        "outputId": "7ea60c0c-963a-4ae3-c0ac-fd2e6577a00f"
      },
      "execution_count": 6,
      "outputs": [
        {
          "output_type": "display_data",
          "data": {
            "text/plain": [
              "Plot with title “Histogram of data$LN_IC50”"
            ],
            "image/png": "[encoded data removed]"
          },
          "metadata": {
            "image/png": {
              "width": 420,
              "height": 420
            }
          }
        }
      ]
    },
    {
      "cell_type": "code",
      "source": [
        "data <- na.omit(data)  # Remove rows with NA values\n",
        "summary(data)\n"
      ],
      "metadata": {
        "colab": {
          "base_uri": "https://localhost:8080/",
          "height": 746
        },
        "id": "JeM3tZJSHhzM",
        "outputId": "972bb8ff-9fdb-436c-a8ac-78a578185354"
      },
      "execution_count": 7,
      "outputs": [
        {
          "output_type": "display_data",
          "data": {
            "text/plain": [
              "   COSMIC_ID       CELL_LINE_NAME      TCGA_DESC            DRUG_ID    \n",
              " Min.   : 683667   Length:242035      Length:242035      Min.   :1003  \n",
              " 1st Qu.: 906805   Class :character   Class :character   1st Qu.:1149  \n",
              " Median : 909720   Mode  :character   Mode  :character   Median :1631  \n",
              " Mean   : 992107                                         Mean   :1594  \n",
              " 3rd Qu.:1240144                                         3rd Qu.:1912  \n",
              " Max.   :1789883                                         Max.   :2499  \n",
              "  DRUG_NAME            LN_IC50            AUC              Z_SCORE         \n",
              " Length:242035      Min.   :-8.748   Min.   :0.006282   Min.   :-8.254501  \n",
              " Class :character   1st Qu.: 1.508   1st Qu.:0.849452   1st Qu.:-0.656842  \n",
              " Mode  :character   Median : 3.237   Median :0.944197   Median : 0.010585  \n",
              "                    Mean   : 2.817   Mean   :0.882593   Mean   : 0.000006  \n",
              "                    3rd Qu.: 4.700   3rd Qu.:0.974934   3rd Qu.: 0.656037  \n",
              "                    Max.   :13.820   Max.   :0.998904   Max.   : 7.978776  \n",
              " GDSC.Tissue.descriptor.1 GDSC.Tissue.descriptor.2\n",
              " Length:242035            Length:242035           \n",
              " Class :character         Class :character        \n",
              " Mode  :character         Mode  :character        \n",
              "                                                  \n",
              "                                                  \n",
              "                                                  \n",
              " Cancer.Type..matching.TCGA.label. Microsatellite.instability.Status..MSI.\n",
              " Length:242035                     Length:242035                          \n",
              " Class :character                  Class :character                       \n",
              " Mode  :character                  Mode  :character                       \n",
              "                                                                          \n",
              "                                                                          \n",
              "                                                                          \n",
              " Screen.Medium      Growth.Properties      CNA            Gene.Expression   \n",
              " Length:242035      Length:242035      Length:242035      Length:242035     \n",
              " Class :character   Class :character   Class :character   Class :character  \n",
              " Mode  :character   Mode  :character   Mode  :character   Mode  :character  \n",
              "                                                                            \n",
              "                                                                            \n",
              "                                                                            \n",
              " Methylation           TARGET          TARGET_PATHWAY    \n",
              " Length:242035      Length:242035      Length:242035     \n",
              " Class :character   Class :character   Class :character  \n",
              " Mode  :character   Mode  :character   Mode  :character  \n",
              "                                                         \n",
              "                                                         \n",
              "                                                         "
            ]
          },
          "metadata": {}
        }
      ]
    },
    {
      "cell_type": "code",
      "source": [
        "duplicated_rows <- data[duplicated(data), ]\n",
        "print(duplicated_rows) #The output is 0, thus we do not have any duplicated rows\n"
      ],
      "metadata": {
        "colab": {
          "base_uri": "https://localhost:8080/"
        },
        "id": "YWdKWAnyHmEK",
        "outputId": "30f59818-4fee-49fa-eb2d-393e63c1488c"
      },
      "execution_count": 8,
      "outputs": [
        {
          "output_type": "stream",
          "name": "stdout",
          "text": [
            " [1] COSMIC_ID                              \n",
            " [2] CELL_LINE_NAME                         \n",
            " [3] TCGA_DESC                              \n",
            " [4] DRUG_ID                                \n",
            " [5] DRUG_NAME                              \n",
            " [6] LN_IC50                                \n",
            " [7] AUC                                    \n",
            " [8] Z_SCORE                                \n",
            " [9] GDSC.Tissue.descriptor.1               \n",
            "[10] GDSC.Tissue.descriptor.2               \n",
            "[11] Cancer.Type..matching.TCGA.label.      \n",
            "[12] Microsatellite.instability.Status..MSI.\n",
            "[13] Screen.Medium                          \n",
            "[14] Growth.Properties                      \n",
            "[15] CNA                                    \n",
            "[16] Gene.Expression                        \n",
            "[17] Methylation                            \n",
            "[18] TARGET                                 \n",
            "[19] TARGET_PATHWAY                         \n",
            "<0 rows> (or 0-length row.names)\n"
          ]
        }
      ]
    },
    {
      "cell_type": "code",
      "source": [
        "shape<-dim(data)\n",
        "shape"
      ],
      "metadata": {
        "colab": {
          "base_uri": "https://localhost:8080/",
          "height": 34
        },
        "id": "4wLaVkBWHoOn",
        "outputId": "730a89aa-ecf9-4e52-d484-c4fdf2c26198"
      },
      "execution_count": 9,
      "outputs": [
        {
          "output_type": "display_data",
          "data": {
            "text/html": [
              "<style>\n",
              ".list-inline {list-style: none; margin:0; padding: 0}\n",
              ".list-inline>li {display: inline-block}\n",
              ".list-inline>li:not(:last-child)::after {content: \"\\00b7\"; padding: 0 .5ex}\n",
              "</style>\n",
              "<ol class=list-inline><li>242035</li><li>19</li></ol>\n"
            ],
            "text/markdown": "1. 242035\n2. 19\n\n\n",
            "text/latex": "\\begin{enumerate*}\n\\item 242035\n\\item 19\n\\end{enumerate*}\n",
            "text/plain": [
              "[1] 242035     19"
            ]
          },
          "metadata": {}
        }
      ]
    },
    {
      "cell_type": "code",
      "source": [
        "#Correlation score tells how much one variable is related to other variable\n",
        "cor(data$Z_SCORE, data$LN_IC50)"
      ],
      "metadata": {
        "colab": {
          "base_uri": "https://localhost:8080/",
          "height": 34
        },
        "id": "4fnOxArHHpvL",
        "outputId": "91eaee3c-9042-4c2a-b6cf-953526ec4cbe"
      },
      "execution_count": 10,
      "outputs": [
        {
          "output_type": "display_data",
          "data": {
            "text/html": [
              "0.50920929333648"
            ],
            "text/markdown": "0.50920929333648",
            "text/latex": "0.50920929333648",
            "text/plain": [
              "[1] 0.5092093"
            ]
          },
          "metadata": {}
        }
      ]
    },
    {
      "cell_type": "markdown",
      "source": [
        "# **Data Preprocessing**"
      ],
      "metadata": {
        "id": "qpK_Dn6mH0JY"
      }
    },
    {
      "cell_type": "code",
      "source": [
        "preProcess_missingdata <- preProcess(data, method = 'medianImpute')\n",
        "data_imputed <- predict(preProcess_missingdata, newdata = data)"
      ],
      "metadata": {
        "id": "Lb2Yd84FH4J_"
      },
      "execution_count": 11,
      "outputs": []
    },
    {
      "cell_type": "code",
      "source": [
        "# Separate features (X) and target (y)\n",
        "X <- data_imputed[, !names(data_imputed) %in% c(\"LN_IC50\")]\n",
        "y <- data_imputed$LN_IC50"
      ],
      "metadata": {
        "id": "mJM_Pvq_H7XD"
      },
      "execution_count": 12,
      "outputs": []
    },
    {
      "cell_type": "code",
      "source": [
        "# Normalize the features\n",
        "preProcess_normalize <- preProcess(X, method = c(\"center\", \"scale\"))\n",
        "X_normalized <- predict(preProcess_normalize, X)\n"
      ],
      "metadata": {
        "id": "Rx2ERVW3H_Jh"
      },
      "execution_count": 13,
      "outputs": []
    },
    {
      "cell_type": "code",
      "source": [
        "# Split the data into training and test sets\n",
        "set.seed(42)\n",
        "trainIndex <- createDataPartition(y, p = .8, list = FALSE, times = 1)\n",
        "X_train <- X_normalized[trainIndex,]\n",
        "X_test <- X_normalized[-trainIndex,]\n",
        "y_train <- y[trainIndex]\n",
        "y_test <- y[-trainIndex]\n"
      ],
      "metadata": {
        "id": "4AUpDMf_IBLt"
      },
      "execution_count": 14,
      "outputs": []
    },
    {
      "cell_type": "markdown",
      "source": [
        "# **PCA**"
      ],
      "metadata": {
        "id": "8vCLSt-gIDi9"
      }
    },
    {
      "cell_type": "code",
      "source": [
        "# Apply PCA for dimensionality reduction (optional)\n",
        "pca_model <- preProcess(X_train, method = \"pca\", thresh = 0.95)\n",
        "X_train_pca <- predict(pca_model, X_train)\n",
        "X_test_pca <- predict(pca_model, X_test)"
      ],
      "metadata": {
        "id": "B9sYF0AgIFkY"
      },
      "execution_count": 15,
      "outputs": []
    },
    {
      "cell_type": "code",
      "source": [],
      "metadata": {
        "id": "MtsCGvDcIISg"
      },
      "execution_count": 16,
      "outputs": []
    },
    {
      "cell_type": "markdown",
      "source": [
        "# **Model Development with Random Forest**"
      ],
      "metadata": {
        "id": "-9GWsyg7ILC9"
      }
    },
    {
      "cell_type": "code",
      "source": [
        "# Train a Random Forest model\n",
        "rf_model <- randomForest(X_train_pca, y_train, ntree = 100, importance = TRUE)\n"
      ],
      "metadata": {
        "id": "EQoLeEtcIP5r"
      },
      "execution_count": null,
      "outputs": []
    },
    {
      "cell_type": "code",
      "source": [
        "# Evaluate the model using cross-validation\n",
        "set.seed(42)\n",
        "train_control <- trainControl(method = \"cv\", number = 8)\n",
        "rf_cv <- train(X_train_pca, y_train, method = \"rf\", trControl = train_control, ntree = 100)\n"
      ],
      "metadata": {
        "id": "paNjuz39ITLe"
      },
      "execution_count": null,
      "outputs": []
    },
    {
      "cell_type": "code",
      "source": [
        "# Predict on the test set\n",
        "y_pred <- predict(rf_model, X_test_pca)\n"
      ],
      "metadata": {
        "id": "4WD85fnIIW4S"
      },
      "execution_count": null,
      "outputs": []
    },
    {
      "cell_type": "markdown",
      "source": [
        "**RMSE**: Lower values indicate a better fit, with 0 being a perfect fit.\n",
        "\n",
        "**MAE**: Like RMSE, lower values indicate a better fit, and 0 indicates perfect predictions.\n",
        "\n",
        "**R-squared (R²):** Values closer to 1 indicate that the model explains a large portion of the variance in the data. Values close to 0 suggest the model does not explain much of the variance."
      ],
      "metadata": {
        "id": "Fvf88dmBIr1N"
      }
    },
    {
      "cell_type": "code",
      "source": [
        "mse <- mean((y_pred - y_test)^2)\n",
        "r_squared <- 1 - (sum((y_test - y_pred)^2) / sum((y_test - mean(y_test))^2))\n",
        "\n",
        "print(paste(\"MSE:\", mse))\n",
        "print(paste(\"R-squared:\", r_squared))"
      ],
      "metadata": {
        "id": "dzxkRgy8IY_F"
      },
      "execution_count": null,
      "outputs": []
    },
    {
      "cell_type": "markdown",
      "source": [
        "# **XGBoost**"
      ],
      "metadata": {
        "id": "dhz9vztSKUnE"
      }
    },
    {
      "cell_type": "code",
      "source": [
        "dtrain <- xgb.DMatrix(data = X_train, label = y_train)\n",
        "\n",
        "# Set parameters for xgboost\n",
        "params <- list(\n",
        "  objective = \"reg:squarederror\",\n",
        "  eval_metric = \"rmse\",\n",
        "  max_depth = 6,\n",
        "  eta = 0.1\n",
        ")\n",
        "\n",
        "# Train the model\n",
        "xgb_model <- xgb.train(params, dtrain, nrounds = 100)"
      ],
      "metadata": {
        "id": "OlkbKnItKWnD"
      },
      "execution_count": null,
      "outputs": []
    },
    {
      "cell_type": "markdown",
      "source": [
        "Once the model is trained, you can calculate SHAP values using the SHAPforxgboost package."
      ],
      "metadata": {
        "id": "bP9eaeX8Kttq"
      }
    },
    {
      "cell_type": "code",
      "source": [
        "# Calculate SHAP values for your training data\n",
        "shap_values <- shap.values(xgb_model, X_train)\n",
        "\n",
        "# Extract the SHAP values and the corresponding feature names\n",
        "shap_scores <- shap_values$shap_score\n",
        "colnames(shap_scores) <- colnames(X_train)"
      ],
      "metadata": {
        "id": "jSwhFOURKpJp"
      },
      "execution_count": null,
      "outputs": []
    },
    {
      "cell_type": "markdown",
      "source": [
        "we can visualize the SHAP values to interpret our model."
      ],
      "metadata": {
        "id": "HTcph1RkLJw2"
      }
    },
    {
      "cell_type": "code",
      "source": [
        "shap.plot.summary(shap_scores, X_train)"
      ],
      "metadata": {
        "id": "g1p_u0m4LHQv"
      },
      "execution_count": null,
      "outputs": []
    },
    {
      "cell_type": "markdown",
      "source": [
        "This plot shows the distribution of SHAP values for each feature across all instances in our dataset. It helps us understand the impact of each feature on the predictions."
      ],
      "metadata": {
        "id": "C6yyIBe3LVH7"
      }
    },
    {
      "cell_type": "markdown",
      "source": [
        "**Positive SHAP Values:** Features with positive SHAP values push the prediction higher, meaning they are associated with higher LN_IC50 values.\n",
        "\n",
        "**Negative SHAP Values:** Features with negative SHAP values push the prediction lower, meaning they are associated with lower LN_IC50 values."
      ],
      "metadata": {
        "id": "JGYHQnL5LWLw"
      }
    }
  ],
  "metadata": {
    "accelerator": "GPU",
    "colab": {
      "gpuType": "T4",
      "provenance": []
    },
    "kernelspec": {
      "display_name": "R",
      "name": "ir"
    },
    "language_info": {
      "name": "R"
    }
  },
  "nbformat": 4,
  "nbformat_minor": 0
}